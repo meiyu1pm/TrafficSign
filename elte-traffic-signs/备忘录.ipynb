{
 "cells": [
  {
   "cell_type": "code",
   "execution_count": null,
   "id": "070c9866",
   "metadata": {},
   "outputs": [],
   "source": [
    "data = load_iris()\n",
    "iris_target = data.target\n",
    "iris_data = np.float32(data.data)\n",
    "iris_target = np.float32(tf.keras.utils.to_categorical(iris_target, num_classes=3))\n",
    "train_data = tf.data.Dataset.from_tensor_slices((iris_data, iris_target)).batch(128)"
   ]
  },
  {
   "cell_type": "code",
   "execution_count": null,
   "id": "4db810d7",
   "metadata": {},
   "outputs": [],
   "source": [
    "input_xs = tf.keras.Input(shape=(4,), name='input_xs')\n",
    "out = tf.keras.layers.Dense(32, activation='relu', name='dense_1')(input_xs)\n",
    "out = tf.keras.layers.Dense(64, activation='relu', name='dense_2')(out)\n",
    "logits = tf.keras.layers.Dense(3, activation='softmax', name='predictions')(out)\n",
    "model = tf.keras.Model(inputs=input_xs, outputs=logits)\n",
    "opt = tf.optimizers.Adam(1e-3)\n",
    "model.compile(optimizer=opt, loss=tf.losses.categorical_crossentropy, metrics=['accuracy'])\n",
    "model.summary()\n",
    "\n",
    "score = model.fit(train_data, epochs=500)\n",
    "score = model.evaluate(iris_data, iris_target)\n",
    "\n",
    "#model.save(\"./the_save_model.h5\")\n",
    "#new_model = tf.keras.models.load_model(\"./the_save_model.h5\")\n",
    "y_pred = model.predict(iris_data)\n",
    "y_pred = tf.argmax(y_pred,axis=-1)\n",
    "pd.crosstab(y_pred, data.target)"
   ]
  },
  {
   "cell_type": "markdown",
   "id": "a2476c3a",
   "metadata": {},
   "source": [
    "> 梯度下降流程编程\n",
    "```python\n",
    "iris_data = tf.data.Dataset.from_tensor_slices(iris_data).batch(50)\n",
    "iris_target = tf.data.Dataset.from_tensor_slices(iris_target).batch(50)\n",
    "inputs = tf.keras.layers.Input(shape=(4,))\n",
    "x = tf.keras.layers.Dense(32, activation='relu')(inputs)\n",
    "x = tf.keras.layers.Dense(64, activation='relu')(x)\n",
    "predictions = tf.keras.layers.Dense(3, activation='softmax')(x)\n",
    "model = tf.keras.Model(inputs=inputs, outputs=predictions)\n",
    "opt = tf.optimizers.Adam(1e-3)\n",
    "for epoch in range(500):\n",
    "    for _data, label in zip(iris_data, iris_target):\n",
    "        with tf.GradientTape() as tape:\n",
    "            logits = model(_data)\n",
    "            loss_value  = tf.reduce_mean(tf.keras.losses.categorical_crossentropy(y_true=label, y_pred=logits))\n",
    "            grads = tape.gradient(loss_value, model.trainable_variables)\n",
    "            opt.apply_gradients(zip(grads, model.trainable_variables))\n",
    "    print('Training loss is: ', loss_value.numpy())\n",
    "```\n",
    "\n",
    "```python\n",
    "model.save(\"./the_save_model.h5\")\n",
    "new_model = tf.keras.models.load_model(\"./the_save_model.h5\")\n",
    "```"
   ]
  },
  {
   "cell_type": "code",
   "execution_count": null,
   "id": "c7c2bf99",
   "metadata": {},
   "outputs": [],
   "source": []
  }
 ],
 "metadata": {
  "kernelspec": {
   "display_name": "Python 3 (ipykernel)",
   "language": "python",
   "name": "python3"
  },
  "language_info": {
   "codemirror_mode": {
    "name": "ipython",
    "version": 3
   },
   "file_extension": ".py",
   "mimetype": "text/x-python",
   "name": "python",
   "nbconvert_exporter": "python",
   "pygments_lexer": "ipython3",
   "version": "3.8.13"
  }
 },
 "nbformat": 4,
 "nbformat_minor": 5
}
